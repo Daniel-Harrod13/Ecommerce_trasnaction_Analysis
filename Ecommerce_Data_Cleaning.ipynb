{
 "cells": [
  {
   "cell_type": "markdown",
   "metadata": {},
   "source": [
    "# Data Cleaning for E-commerce Analysis\n",
    "\n",
    "## About the Dataset\n",
    "\n",
    "### Context\n",
    "\n",
    "E-commerce has emerged as a pivotal channel for business development, enabling companies to establish a broader market presence through cost-effective and efficient distribution channels. This shift has fundamentally altered consumer behavior, with many individuals opting to shop online using computers or smart devices, facilitating convenient home deliveries.\n",
    "\n",
    "### Content\n",
    "\n",
    "This dataset comprises **500,000 rows** and **8 columns**, representing one year of sales transactions from a UK-based e-commerce (online retail) business. The London-based shop specializes in selling gifts and homewares for both adults and children through its website since 2007. The customer base is diverse, including:\n",
    "\n",
    "- **Individual Consumers**: Making direct purchases for personal use.\n",
    "- **Small Businesses**: Purchasing in bulk to resell through retail outlets.\n",
    "\n",
    "#### Column Descriptions\n",
    "\n",
    "1. **TransactionNo (categorical)**:  \n",
    "   - A six-digit unique identifier for each transaction.\n",
    "   - The prefix “C” denotes a cancellation.\n",
    "\n",
    "2. **Date (numeric)**:  \n",
    "   - The date when the transaction occurred.\n",
    "\n",
    "3. **ProductNo (categorical)**:  \n",
    "   - A five or six-digit unique identifier for each product.\n",
    "\n",
    "4. **Product (categorical)**:  \n",
    "   - The name of the product/item sold.\n",
    "\n",
    "5. **Price (numeric)**:  \n",
    "   - The unit price of the product in pound sterling (£).\n",
    "\n",
    "6. **Quantity (numeric)**:  \n",
    "   - The number of units purchased in each transaction.\n",
    "   - Negative values indicate canceled transactions.\n",
    "\n",
    "7. **CustomerNo (categorical)**:  \n",
    "   - A five-digit unique identifier for each customer.\n",
    "\n",
    "8. **Country (categorical)**:  \n",
    "   - The country where the customer is located.\n",
    "\n",
    "**Note:** A small percentage of transactions are cancellations, primarily due to products being out of stock. Customers typically cancel orders to ensure that all desired products are delivered simultaneously.\n",
    "\n",
    "\n",
    "---\n",
    "\n",
    "*This notebook focuses on cleaning and preparing the dataset to facilitate accurate and meaningful analysis, addressing the objectives outlined above.*"
   ]
  },
  {
   "cell_type": "code",
   "execution_count": 3,
   "metadata": {},
   "outputs": [],
   "source": [
    "# First we will load the required libraries\n",
    "import pandas as pd\n",
    "import numpy as np\n",
    "import matplotlib.pyplot as plt\n",
    "from sklearn.model_selection import train_test_split\n",
    "from sklearn.linear_model import LinearRegression\n"
   ]
  },
  {
   "cell_type": "code",
   "execution_count": 4,
   "metadata": {},
   "outputs": [
    {
     "data": {
      "text/html": [
       "<div>\n",
       "<style scoped>\n",
       "    .dataframe tbody tr th:only-of-type {\n",
       "        vertical-align: middle;\n",
       "    }\n",
       "\n",
       "    .dataframe tbody tr th {\n",
       "        vertical-align: top;\n",
       "    }\n",
       "\n",
       "    .dataframe thead th {\n",
       "        text-align: right;\n",
       "    }\n",
       "</style>\n",
       "<table border=\"1\" class=\"dataframe\">\n",
       "  <thead>\n",
       "    <tr style=\"text-align: right;\">\n",
       "      <th></th>\n",
       "      <th>TransactionNo</th>\n",
       "      <th>Date</th>\n",
       "      <th>ProductNo</th>\n",
       "      <th>ProductName</th>\n",
       "      <th>Price</th>\n",
       "      <th>Quantity</th>\n",
       "      <th>CustomerNo</th>\n",
       "      <th>Country</th>\n",
       "    </tr>\n",
       "  </thead>\n",
       "  <tbody>\n",
       "    <tr>\n",
       "      <th>0</th>\n",
       "      <td>581482</td>\n",
       "      <td>12/9/2019</td>\n",
       "      <td>22485</td>\n",
       "      <td>Set Of 2 Wooden Market Crates</td>\n",
       "      <td>21.47</td>\n",
       "      <td>12</td>\n",
       "      <td>17490.0</td>\n",
       "      <td>United Kingdom</td>\n",
       "    </tr>\n",
       "    <tr>\n",
       "      <th>1</th>\n",
       "      <td>581475</td>\n",
       "      <td>12/9/2019</td>\n",
       "      <td>22596</td>\n",
       "      <td>Christmas Star Wish List Chalkboard</td>\n",
       "      <td>10.65</td>\n",
       "      <td>36</td>\n",
       "      <td>13069.0</td>\n",
       "      <td>United Kingdom</td>\n",
       "    </tr>\n",
       "    <tr>\n",
       "      <th>2</th>\n",
       "      <td>581475</td>\n",
       "      <td>12/9/2019</td>\n",
       "      <td>23235</td>\n",
       "      <td>Storage Tin Vintage Leaf</td>\n",
       "      <td>11.53</td>\n",
       "      <td>12</td>\n",
       "      <td>13069.0</td>\n",
       "      <td>United Kingdom</td>\n",
       "    </tr>\n",
       "    <tr>\n",
       "      <th>3</th>\n",
       "      <td>581475</td>\n",
       "      <td>12/9/2019</td>\n",
       "      <td>23272</td>\n",
       "      <td>Tree T-Light Holder Willie Winkie</td>\n",
       "      <td>10.65</td>\n",
       "      <td>12</td>\n",
       "      <td>13069.0</td>\n",
       "      <td>United Kingdom</td>\n",
       "    </tr>\n",
       "    <tr>\n",
       "      <th>4</th>\n",
       "      <td>581475</td>\n",
       "      <td>12/9/2019</td>\n",
       "      <td>23239</td>\n",
       "      <td>Set Of 4 Knick Knack Tins Poppies</td>\n",
       "      <td>11.94</td>\n",
       "      <td>6</td>\n",
       "      <td>13069.0</td>\n",
       "      <td>United Kingdom</td>\n",
       "    </tr>\n",
       "    <tr>\n",
       "      <th>5</th>\n",
       "      <td>581475</td>\n",
       "      <td>12/9/2019</td>\n",
       "      <td>21705</td>\n",
       "      <td>Bag 500g Swirly Marbles</td>\n",
       "      <td>10.65</td>\n",
       "      <td>24</td>\n",
       "      <td>13069.0</td>\n",
       "      <td>United Kingdom</td>\n",
       "    </tr>\n",
       "    <tr>\n",
       "      <th>6</th>\n",
       "      <td>581475</td>\n",
       "      <td>12/9/2019</td>\n",
       "      <td>22118</td>\n",
       "      <td>Joy Wooden Block Letters</td>\n",
       "      <td>11.53</td>\n",
       "      <td>18</td>\n",
       "      <td>13069.0</td>\n",
       "      <td>United Kingdom</td>\n",
       "    </tr>\n",
       "    <tr>\n",
       "      <th>7</th>\n",
       "      <td>581475</td>\n",
       "      <td>12/9/2019</td>\n",
       "      <td>22119</td>\n",
       "      <td>Peace Wooden Block Letters</td>\n",
       "      <td>12.25</td>\n",
       "      <td>12</td>\n",
       "      <td>13069.0</td>\n",
       "      <td>United Kingdom</td>\n",
       "    </tr>\n",
       "    <tr>\n",
       "      <th>8</th>\n",
       "      <td>581475</td>\n",
       "      <td>12/9/2019</td>\n",
       "      <td>22217</td>\n",
       "      <td>T-Light Holder Hanging Lace</td>\n",
       "      <td>10.65</td>\n",
       "      <td>12</td>\n",
       "      <td>13069.0</td>\n",
       "      <td>United Kingdom</td>\n",
       "    </tr>\n",
       "    <tr>\n",
       "      <th>9</th>\n",
       "      <td>581475</td>\n",
       "      <td>12/9/2019</td>\n",
       "      <td>22216</td>\n",
       "      <td>T-Light Holder White Lace</td>\n",
       "      <td>10.55</td>\n",
       "      <td>24</td>\n",
       "      <td>13069.0</td>\n",
       "      <td>United Kingdom</td>\n",
       "    </tr>\n",
       "  </tbody>\n",
       "</table>\n",
       "</div>"
      ],
      "text/plain": [
       "  TransactionNo       Date ProductNo                          ProductName  \\\n",
       "0        581482  12/9/2019     22485        Set Of 2 Wooden Market Crates   \n",
       "1        581475  12/9/2019     22596  Christmas Star Wish List Chalkboard   \n",
       "2        581475  12/9/2019     23235             Storage Tin Vintage Leaf   \n",
       "3        581475  12/9/2019     23272    Tree T-Light Holder Willie Winkie   \n",
       "4        581475  12/9/2019     23239    Set Of 4 Knick Knack Tins Poppies   \n",
       "5        581475  12/9/2019     21705              Bag 500g Swirly Marbles   \n",
       "6        581475  12/9/2019     22118             Joy Wooden Block Letters   \n",
       "7        581475  12/9/2019     22119           Peace Wooden Block Letters   \n",
       "8        581475  12/9/2019     22217          T-Light Holder Hanging Lace   \n",
       "9        581475  12/9/2019     22216            T-Light Holder White Lace   \n",
       "\n",
       "   Price  Quantity  CustomerNo         Country  \n",
       "0  21.47        12     17490.0  United Kingdom  \n",
       "1  10.65        36     13069.0  United Kingdom  \n",
       "2  11.53        12     13069.0  United Kingdom  \n",
       "3  10.65        12     13069.0  United Kingdom  \n",
       "4  11.94         6     13069.0  United Kingdom  \n",
       "5  10.65        24     13069.0  United Kingdom  \n",
       "6  11.53        18     13069.0  United Kingdom  \n",
       "7  12.25        12     13069.0  United Kingdom  \n",
       "8  10.65        12     13069.0  United Kingdom  \n",
       "9  10.55        24     13069.0  United Kingdom  "
      ]
     },
     "execution_count": 4,
     "metadata": {},
     "output_type": "execute_result"
    }
   ],
   "source": [
    "# here we will begin to load and present the data frame \n",
    "sale_df = pd.read_csv('/Users/danielharrod/Ecommerce_transaction_Analysis/data/Sales_Transaction.csv')\n",
    "\n",
    "sale_df.head(10)"
   ]
  },
  {
   "cell_type": "code",
   "execution_count": 5,
   "metadata": {},
   "outputs": [
    {
     "data": {
      "text/plain": [
       "(536350, 8)"
      ]
     },
     "execution_count": 5,
     "metadata": {},
     "output_type": "execute_result"
    }
   ],
   "source": [
    "# Now we will examine the data types as well as the shape of the data frame\n",
    "sale_df.shape\n",
    "\n",
    "\n"
   ]
  },
  {
   "cell_type": "code",
   "execution_count": 8,
   "metadata": {},
   "outputs": [
    {
     "data": {
      "text/plain": [
       "TransactionNo     0\n",
       "Date              0\n",
       "ProductNo         0\n",
       "ProductName       0\n",
       "Price             0\n",
       "Quantity          0\n",
       "CustomerNo       55\n",
       "Country           0\n",
       "dtype: int64"
      ]
     },
     "execution_count": 8,
     "metadata": {},
     "output_type": "execute_result"
    }
   ],
   "source": [
    "# Now we will examine the data frame for any missing values\n",
    "\n",
    "sale_df.isnull().sum()\n",
    "\n"
   ]
  },
  {
   "cell_type": "code",
   "execution_count": 10,
   "metadata": {},
   "outputs": [
    {
     "name": "stdout",
     "output_type": "stream",
     "text": [
      "Missing CustomerNo: 55 out of 536350 rows (0.01%)\n"
     ]
    }
   ],
   "source": [
    "# Lets further examine the missing 'CustomerNO' values\n",
    "missing_customer_no = sale_df['CustomerNo'].isnull().sum()\n",
    "total_rows = sale_df.shape[0]\n",
    "missing_percentage = (missing_customer_no / total_rows) * 100\n",
    "\n",
    "print(f\"Missing CustomerNo: {missing_customer_no} out of {total_rows} rows ({missing_percentage:.2f}%)\")"
   ]
  },
  {
   "cell_type": "code",
   "execution_count": 12,
   "metadata": {},
   "outputs": [
    {
     "name": "stdout",
     "output_type": "stream",
     "text": [
      "Totals Rows before removal: 536350\n",
      "Total rows after removal: 536295\n",
      "Rows removed: 55\n"
     ]
    }
   ],
   "source": [
    "# Now we will drop those missing values from the data frame\n",
    "\n",
    "print(f\"Totals Rows before removal: {sale_df.shape[0]}\")\n",
    "\n",
    "# Remove Rows with missing CustomerNo\n",
    "sales_df_cleaned = sale_df.dropna(subset=['CustomerNo'])\n",
    "\n",
    "# After removal\n",
    "print(f\"Total rows after removal: {sales_df_cleaned.shape[0]}\")\n",
    "print(f\"Rows removed: {total_rows - sales_df_cleaned.shape[0]}\")\n",
    "\n",
    "\n",
    "\n"
   ]
  },
  {
   "cell_type": "code",
   "execution_count": 14,
   "metadata": {},
   "outputs": [],
   "source": [
    "#Now that we have removed the missing values we will save the new data frame to a new csv file called: Sales_Transaction_Cleaned.csv\n",
    "sales_df_cleaned.to_csv('/Users/danielharrod/Ecommerce_transaction_Analysis/data/Sales_Transaction_Cleaned.csv', index=False)"
   ]
  },
  {
   "cell_type": "code",
   "execution_count": null,
   "metadata": {},
   "outputs": [],
   "source": []
  },
  {
   "cell_type": "code",
   "execution_count": null,
   "metadata": {},
   "outputs": [],
   "source": []
  },
  {
   "cell_type": "code",
   "execution_count": null,
   "metadata": {},
   "outputs": [],
   "source": []
  },
  {
   "cell_type": "code",
   "execution_count": null,
   "metadata": {},
   "outputs": [],
   "source": []
  },
  {
   "cell_type": "code",
   "execution_count": null,
   "metadata": {},
   "outputs": [],
   "source": []
  },
  {
   "cell_type": "code",
   "execution_count": null,
   "metadata": {},
   "outputs": [],
   "source": []
  }
 ],
 "metadata": {
  "kernelspec": {
   "display_name": "EcomAnalysis",
   "language": "python",
   "name": "python3"
  },
  "language_info": {
   "codemirror_mode": {
    "name": "ipython",
    "version": 3
   },
   "file_extension": ".py",
   "mimetype": "text/x-python",
   "name": "python",
   "nbconvert_exporter": "python",
   "pygments_lexer": "ipython3",
   "version": "3.11.11"
  }
 },
 "nbformat": 4,
 "nbformat_minor": 2
}
